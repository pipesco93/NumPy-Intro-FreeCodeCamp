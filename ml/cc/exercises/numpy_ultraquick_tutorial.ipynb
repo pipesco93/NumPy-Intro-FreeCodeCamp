{
  "cells": [
    {
      "cell_type": "markdown",
      "metadata": {
        "id": "view-in-github",
        "colab_type": "text"
      },
      "source": [
        "<a href=\"https://colab.research.google.com/github/pipesco93/NumPy-Intro-FreeCodeCamp/blob/main/ml/cc/exercises/numpy_ultraquick_tutorial.ipynb\" target=\"_parent\"><img src=\"https://colab.research.google.com/assets/colab-badge.svg\" alt=\"Open In Colab\"/></a>"
      ]
    },
    {
      "cell_type": "code",
      "execution_count": null,
      "metadata": {
        "cellView": "form",
        "id": "JuGzpxT_Z1EU"
      },
      "outputs": [],
      "source": [
        "#@title Copyright 2020 Google LLC. Double-click here for license information.\n",
        "# Licensed under the Apache License, Version 2.0 (the \"License\");\n",
        "# you may not use this file except in compliance with the License.\n",
        "# You may obtain a copy of the License at\n",
        "#\n",
        "# https://www.apache.org/licenses/LICENSE-2.0\n",
        "#\n",
        "# Unless required by applicable law or agreed to in writing, software\n",
        "# distributed under the License is distributed on an \"AS IS\" BASIS,\n",
        "# WITHOUT WARRANTIES OR CONDITIONS OF ANY KIND, either express or implied.\n",
        "# See the License for the specific language governing permissions and\n",
        "# limitations under the License."
      ]
    },
    {
      "cell_type": "markdown",
      "metadata": {
        "id": "T4r2z30vJSbA"
      },
      "source": [
        "# Colabs\n",
        "\n",
        "Machine Learning Crash Course uses Colaboratories (Colabs) for all programming exercises. Colab is Google's implementation of [Jupyter Notebook](https://jupyter.org/). For more information about Colabs and how to use them, go to [Welcome to Colaboratory](https://research.google.com/colaboratory)."
      ]
    },
    {
      "cell_type": "markdown",
      "metadata": {
        "id": "azZFyENLZm_g"
      },
      "source": [
        "# NumPy UltraQuick Tutorial\n",
        "\n",
        "[Numpy](https://numpy.org/doc/stable/index.html) is a Python library for creating and manipulating matrices, the main data structure used by ML algorithms. [Matrices](https://en.wikipedia.org/wiki/Matrix_(mathematics)) are mathematical objects used to store values in rows and columns.\n",
        "\n",
        "Python calls matrices *lists*, NumPy calls them *arrays* and TensorFlow calls them *tensors*. Python represents matrices with the [list data type](https://docs.python.org/3/library/stdtypes.html#lists).\n",
        "\n",
        "This Colab is not an exhaustive tutorial on NumPy.  Rather, this Colab teaches you just enough to use NumPy in the Colab exercises of Machine Learning Crash Course."
      ]
    },
    {
      "cell_type": "markdown",
      "metadata": {
        "id": "Ll9RWewwFwX6"
      },
      "source": [
        "## Import NumPy module\n",
        "\n",
        "Run the following code cell to import the NumPy module:"
      ]
    },
    {
      "cell_type": "code",
      "execution_count": null,
      "metadata": {
        "id": "guvPzSWYJGZ4"
      },
      "outputs": [],
      "source": [
        "import numpy as np"
      ]
    },
    {
      "cell_type": "markdown",
      "metadata": {
        "id": "7cT9fXS_JUpa"
      },
      "source": [
        "## Populate arrays with specific numbers\n",
        "\n",
        "Call `np.array` to create a NumPy array with your own hand-picked values. For example, the following call to `np.array` creates an 8-element array:"
      ]
    },
    {
      "cell_type": "code",
      "execution_count": null,
      "metadata": {
        "id": "XxJR5xKpJbB3"
      },
      "outputs": [],
      "source": [
        "one_dimensional_array = np.array([1.2, 2.4, 3.5, 4.7, 6.1, 7.2, 8.3, 9.5])\n",
        "print(one_dimensional_array)"
      ]
    },
    {
      "cell_type": "markdown",
      "metadata": {
        "id": "RKywqhLTbR1M"
      },
      "source": [
        "You can also use `np.array` to create a two-dimensional array. To create a two-dimensional array specify an extra layer of square brackets. For example, the following call creates a 3x2 array:"
      ]
    },
    {
      "cell_type": "code",
      "execution_count": null,
      "metadata": {
        "id": "_veGj18eMCDu"
      },
      "outputs": [],
      "source": [
        "two_dimensional_array = np.array([[6, 5], [11, 7], [4, 8]])\n",
        "print(two_dimensional_array)"
      ]
    },
    {
      "cell_type": "markdown",
      "metadata": {
        "id": "0ED7eug9CvGR"
      },
      "source": [
        "To populate an array with all zeroes, call `np.zeros`. To populate an array with all ones, call `np.ones`."
      ]
    },
    {
      "cell_type": "markdown",
      "metadata": {
        "id": "gEy_pdBoROu3"
      },
      "source": [
        "## Populate arrays with sequences of numbers\n",
        "\n",
        "You can populate an array with a sequence of numbers:"
      ]
    },
    {
      "cell_type": "code",
      "execution_count": null,
      "metadata": {
        "id": "CjHfYWhdQYtO"
      },
      "outputs": [],
      "source": [
        "sequence_of_integers = np.arange(5, 12)\n",
        "print(sequence_of_integers)"
      ]
    },
    {
      "cell_type": "markdown",
      "metadata": {
        "id": "1x3OoWrPWn8S"
      },
      "source": [
        "Notice that `np.arange` generates a sequence that includes the lower bound (5) but not the upper bound (12)."
      ]
    },
    {
      "cell_type": "markdown",
      "metadata": {
        "id": "aiqqxDBINAOY"
      },
      "source": [
        "## Populate arrays with random numbers\n",
        "\n",
        "NumPy provides various functions to populate arrays with random numbers across certain ranges. For example, `np.random.randint` generates random integers between a low and high value. The following call populates a 6-element array with random integers between 50 and 100.\n",
        "\n",
        "\n"
      ]
    },
    {
      "cell_type": "code",
      "execution_count": null,
      "metadata": {
        "id": "tG8ao9CsNqw8"
      },
      "outputs": [],
      "source": [
        "random_integers_between_50_and_100 = np.random.randint(low=50, high=101, size=(6,))\n",
        "print(random_integers_between_50_and_100)"
      ]
    },
    {
      "cell_type": "markdown",
      "metadata": {
        "id": "BSU7lMUcgRm3"
      },
      "source": [
        "Note that the highest generated integer `np.random.randint` is one less than the `high` argument."
      ]
    },
    {
      "cell_type": "markdown",
      "metadata": {
        "id": "lQF6-Eg0ksqE"
      },
      "source": [
        "To create random floating-point values between 0.0 and 1.0, call `np.random.random`. For example:"
      ]
    },
    {
      "cell_type": "code",
      "execution_count": null,
      "metadata": {
        "id": "6Ny0eXZPk5Ax"
      },
      "outputs": [],
      "source": [
        "random_floats_between_0_and_1 = np.random.random((6,))\n",
        "print(random_floats_between_0_and_1)"
      ]
    },
    {
      "cell_type": "markdown",
      "metadata": {
        "id": "eXOdSjRlSEf6"
      },
      "source": [
        "## Mathematical Operations on NumPy Operands\n",
        "\n",
        "If you want to add or subtract two arrays, linear algebra requires that the two operands have the same dimensions. Furthermore, if you want to multiply two arrays, linear algebra imposes strict rules on the dimensional compatibility of operands. Fortunately, NumPy uses a trick called [**broadcasting**](https://developers.google.com/machine-learning/glossary/#broadcasting) to virtually expand the smaller operand to dimensions compatible for linear algebra. For example, the following operation uses broadcasting to add 2.0 to the value of every item in the array created in the previous code cell:"
      ]
    },
    {
      "cell_type": "code",
      "execution_count": null,
      "metadata": {
        "id": "J5E5S0wjRvQr"
      },
      "outputs": [],
      "source": [
        "random_floats_between_2_and_3 = random_floats_between_0_and_1 + 2.0\n",
        "print(random_floats_between_2_and_3)"
      ]
    },
    {
      "cell_type": "markdown",
      "metadata": {
        "id": "x6K_poVDPpAg"
      },
      "source": [
        "The following operation also relies on broadcasting to multiply each cell in an array by 3:"
      ]
    },
    {
      "cell_type": "code",
      "execution_count": null,
      "metadata": {
        "id": "tYjvXmvFPoPB"
      },
      "outputs": [],
      "source": [
        "random_integers_between_150_and_300 = random_integers_between_50_and_100 * 3\n",
        "print(random_integers_between_150_and_300)"
      ]
    },
    {
      "cell_type": "markdown",
      "metadata": {
        "id": "hfYVa8iQTaUL"
      },
      "source": [
        "## Task 1: Create a Linear Dataset\n",
        "\n",
        "Your goal is to create a simple dataset consisting of a single feature and a label as follows:\n",
        "\n",
        "1. Assign a sequence of integers from 6 to 20 (inclusive) to a NumPy array named `feature`.\n",
        "2. Assign 15 values to a NumPy array named `label` such that:\n",
        "\n",
        "```\n",
        "   label = (3)(feature) + 4\n",
        "```\n",
        "For example, the first value for `label` should be:\n",
        "\n",
        "```\n",
        "  label = (3)(6) + 4 = 22\n",
        " ```"
      ]
    },
    {
      "cell_type": "code",
      "execution_count": null,
      "metadata": {
        "id": "qK9UF2rUc3Y_"
      },
      "outputs": [],
      "source": [
        "feature = ? # write your code here\n",
        "print(feature)\n",
        "label = ?   # write your code here\n",
        "print(label)"
      ]
    },
    {
      "cell_type": "code",
      "execution_count": null,
      "metadata": {
        "cellView": "form",
        "id": "KjtIAYvMTPGl"
      },
      "outputs": [],
      "source": [
        "#@title Double-click to see a possible solution to Task 1.\n",
        "feature = np.arange(6, 21)\n",
        "print(feature)\n",
        "label = (feature * 3) + 4\n",
        "print(label)"
      ]
    },
    {
      "cell_type": "markdown",
      "metadata": {
        "id": "RNsjGYRj87PB"
      },
      "source": [
        "## Task 2: Add Some Noise to the Dataset\n",
        "\n",
        "To make your dataset a little more realistic, insert a little random noise into each element of the `label` array you already created. To be more precise, modify each value assigned to `label` by adding a *different* random floating-point value between -2 and +2.\n",
        "\n",
        "Don't rely on broadcasting. Instead, create a `noise` array having the same dimension as `label`."
      ]
    },
    {
      "cell_type": "code",
      "execution_count": null,
      "metadata": {
        "id": "HF-flFfs9r0q"
      },
      "outputs": [],
      "source": [
        "noise = ?    # write your code here\n",
        "print(noise)\n",
        "label = ?    # write your code here\n",
        "print(label)"
      ]
    },
    {
      "cell_type": "code",
      "execution_count": null,
      "metadata": {
        "cellView": "form",
        "id": "7chgYKrC93np"
      },
      "outputs": [],
      "source": [
        "#@title Double-click to see a possible solution to Task 2.\n",
        "\n",
        "noise = (np.random.random([15]) * 4) - 2\n",
        "print(noise)\n",
        "label = label + noise\n",
        "print(label)"
      ]
    },
    {
      "cell_type": "markdown",
      "source": [
        "# Basic\n"
      ],
      "metadata": {
        "id": "5VgZ8mgBaJzv"
      }
    },
    {
      "cell_type": "code",
      "source": [
        "a = np.array([[1,2,3,4,5,6,7],[8,9,10,11,12,13,14]])\n",
        "print(a)"
      ],
      "metadata": {
        "id": "ppVKOVQ_BA8G"
      },
      "execution_count": null,
      "outputs": []
    },
    {
      "cell_type": "code",
      "source": [
        "a.shape"
      ],
      "metadata": {
        "id": "ODhtHsxQBNxm"
      },
      "execution_count": null,
      "outputs": []
    },
    {
      "cell_type": "code",
      "source": [
        "# Get specific element [row, column]\n",
        "\n",
        "a[1,5]\n",
        "a[1,-2]"
      ],
      "metadata": {
        "id": "nz4Ew_FNBc1n"
      },
      "execution_count": null,
      "outputs": []
    },
    {
      "cell_type": "code",
      "source": [
        "# get specific row\n",
        "a[0,:]"
      ],
      "metadata": {
        "id": "mmVYtTjADTXd"
      },
      "execution_count": null,
      "outputs": []
    },
    {
      "cell_type": "code",
      "source": [
        "# get specific column\n",
        "a[:,2]"
      ],
      "metadata": {
        "id": "cLTKkls6DbBh"
      },
      "execution_count": null,
      "outputs": []
    },
    {
      "cell_type": "code",
      "source": [
        "#Gettign more fancy [StartIndex:EndIndex:StepSize]\n",
        "a[0,1:6:2]\n"
      ],
      "metadata": {
        "id": "I55nhHdmDl7l"
      },
      "execution_count": null,
      "outputs": []
    },
    {
      "cell_type": "code",
      "source": [
        "#Change item\n",
        "a[1,5] = 20\n",
        "print(a)\n",
        "\n",
        "a[:,2] = 5\n",
        "print(a)\n",
        "\n",
        "a[:,2] = [2,1]\n",
        "print(a)"
      ],
      "metadata": {
        "id": "snYo24loGk9R"
      },
      "execution_count": null,
      "outputs": []
    },
    {
      "cell_type": "markdown",
      "source": [
        "* 3D Example"
      ],
      "metadata": {
        "id": "FYabx7zcHK9k"
      }
    },
    {
      "cell_type": "code",
      "source": [
        "# prompt: give an example of 3D array with name b\n",
        "\n",
        "b = np.array([[[1,2],[3,4]],[[5,6],[7,8]]])\n",
        "print(b)\n"
      ],
      "metadata": {
        "id": "WnvxZmGgHQOo"
      },
      "execution_count": null,
      "outputs": []
    },
    {
      "cell_type": "code",
      "source": [
        "b[0,0,0]\n",
        "b[0,1,1]"
      ],
      "metadata": {
        "id": "tHrqCCUBHbDy"
      },
      "execution_count": null,
      "outputs": []
    },
    {
      "cell_type": "code",
      "source": [
        "# All 0s matrix\n",
        "np.zeros((2,3))"
      ],
      "metadata": {
        "id": "kJjYRLC3S7uY"
      },
      "execution_count": null,
      "outputs": []
    },
    {
      "cell_type": "code",
      "source": [
        "np.ones((4,2,2), dtype='int32')"
      ],
      "metadata": {
        "id": "lvGKxW_kTEio"
      },
      "execution_count": null,
      "outputs": []
    },
    {
      "cell_type": "code",
      "source": [
        "# Any ohter number\n",
        "np.full((2,2), 99)"
      ],
      "metadata": {
        "id": "wlZNSGFWTK3_"
      },
      "execution_count": null,
      "outputs": []
    },
    {
      "cell_type": "code",
      "source": [
        "np.full_like(a, 4)"
      ],
      "metadata": {
        "id": "Ls9yC_K4TUq3"
      },
      "execution_count": null,
      "outputs": []
    },
    {
      "cell_type": "code",
      "source": [
        "# random decimal number\n",
        "np.random.rand(4,2,3)"
      ],
      "metadata": {
        "id": "8RluwBl1Utl3"
      },
      "execution_count": null,
      "outputs": []
    },
    {
      "cell_type": "code",
      "source": [
        "np.random.random_sample(a.shape)"
      ],
      "metadata": {
        "id": "cXWTHmBdU1qC"
      },
      "execution_count": null,
      "outputs": []
    },
    {
      "cell_type": "code",
      "source": [
        "# Random integer values\n",
        "np.random.randint(7, size=(3,3))\n"
      ],
      "metadata": {
        "id": "XjQ0_J5wU_2G"
      },
      "execution_count": null,
      "outputs": []
    },
    {
      "cell_type": "code",
      "source": [
        "#np.identity(5)"
      ],
      "metadata": {
        "id": "1wMqsqbUVN7Z"
      },
      "execution_count": null,
      "outputs": []
    },
    {
      "cell_type": "code",
      "source": [
        "#Repeat an array\n",
        "arr = np.array([[1,2,3]])\n",
        "r1 = np.repeat(arr,3, axis=0)\n",
        "print(r1)"
      ],
      "metadata": {
        "id": "K17vIyfCVWyJ"
      },
      "execution_count": null,
      "outputs": []
    },
    {
      "cell_type": "code",
      "source": [],
      "metadata": {
        "id": "9Bh68z88VfU4"
      },
      "execution_count": null,
      "outputs": []
    },
    {
      "cell_type": "markdown",
      "source": [
        "![image.png](data:image/png;base64,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)"
      ],
      "metadata": {
        "id": "sP5Du8DDVsnx"
      }
    },
    {
      "cell_type": "markdown",
      "source": [
        "# How wuld you initilize this arrar?"
      ],
      "metadata": {
        "id": "ayJ76yDVV3SF"
      }
    },
    {
      "cell_type": "code",
      "source": [
        "example_array = np.ones((5,5))\n",
        "print(example_array)\n",
        "print('\\n')\n",
        "example_array[1:4,1:4] = 0\n",
        "print(example_array)\n",
        "print('\\n')\n",
        "example_array[2,2] = 9\n",
        "print(example_array)\n",
        "\n",
        "\n"
      ],
      "metadata": {
        "id": "kAE_8klhV8Ff"
      },
      "execution_count": null,
      "outputs": []
    },
    {
      "cell_type": "markdown",
      "source": [
        "Other Solution"
      ],
      "metadata": {
        "id": "64G3bHCJXwhW"
      }
    },
    {
      "cell_type": "code",
      "source": [
        "example_array = np.ones((5,5))\n",
        "print(example_array)\n",
        "print('\\n')\n",
        "z = np.zeros((3,3))\n",
        "print(z)\n",
        "print('\\n')\n",
        "z[1,1] = 9\n",
        "print(z)\n",
        "print('\\n')\n",
        "example_array[1:-1,1:-1] = z\n",
        "print(example_array)"
      ],
      "metadata": {
        "id": "kzNVaaG-XwSM"
      },
      "execution_count": null,
      "outputs": []
    },
    {
      "cell_type": "markdown",
      "source": [
        "**Be careful when copying arrays**"
      ],
      "metadata": {
        "id": "0FmArv2-YfeQ"
      }
    },
    {
      "cell_type": "code",
      "source": [
        "a = np.array([1,2,3])\n",
        "b = a #means that b points to the same memory block as a\n",
        "b[0] = 100\n",
        "print(a)"
      ],
      "metadata": {
        "id": "cDzoRW5bYphy"
      },
      "execution_count": null,
      "outputs": []
    },
    {
      "cell_type": "code",
      "source": [
        "a = np.array([1,2,3])\n",
        "b = a.copy()\n",
        "b[0] = 100\n",
        "print(a)"
      ],
      "metadata": {
        "id": "2_ivLfq9YvlY"
      },
      "execution_count": null,
      "outputs": []
    },
    {
      "cell_type": "markdown",
      "source": [
        "# **Mathematics**"
      ],
      "metadata": {
        "id": "RJxVUBumZBQv"
      }
    },
    {
      "cell_type": "code",
      "source": [
        "a = np.array([1,2,3,4])\n",
        "print(a)"
      ],
      "metadata": {
        "id": "jLw_Ep9CZFk3"
      },
      "execution_count": null,
      "outputs": []
    },
    {
      "cell_type": "code",
      "source": [
        "a + 2"
      ],
      "metadata": {
        "id": "PG8r9MtBZJrJ"
      },
      "execution_count": null,
      "outputs": []
    },
    {
      "cell_type": "code",
      "source": [
        "a- 2"
      ],
      "metadata": {
        "id": "-U-bgk8lZNVw"
      },
      "execution_count": null,
      "outputs": []
    },
    {
      "cell_type": "code",
      "source": [
        "a * 2"
      ],
      "metadata": {
        "id": "sfOEGG3YZNSs"
      },
      "execution_count": null,
      "outputs": []
    },
    {
      "cell_type": "code",
      "source": [
        "a / 2"
      ],
      "metadata": {
        "id": "wc3wtM0VZNJp"
      },
      "execution_count": null,
      "outputs": []
    },
    {
      "cell_type": "code",
      "source": [
        "b = np.array([1,0,1,0])\n",
        "a + b"
      ],
      "metadata": {
        "id": "10OAW_u7ZNAz"
      },
      "execution_count": null,
      "outputs": []
    },
    {
      "cell_type": "code",
      "source": [
        "a ** 2"
      ],
      "metadata": {
        "id": "v3wgcj_JZM2D"
      },
      "execution_count": null,
      "outputs": []
    },
    {
      "cell_type": "code",
      "source": [
        "np.cos(a)"
      ],
      "metadata": {
        "id": "UjqggPu1Zkw_"
      },
      "execution_count": null,
      "outputs": []
    },
    {
      "cell_type": "markdown",
      "source": [
        "# Linear Algebra"
      ],
      "metadata": {
        "id": "7BaU_DvDZ7KT"
      }
    },
    {
      "cell_type": "code",
      "source": [
        "a = np.full((2,3),1)\n",
        "print(a)\n",
        "print('\\n')\n",
        "b = np.full((3,2),2)\n",
        "print(b)"
      ],
      "metadata": {
        "id": "JD8i6KAoZks-"
      },
      "execution_count": null,
      "outputs": []
    },
    {
      "cell_type": "code",
      "source": [
        "np.matmul(a,b)"
      ],
      "metadata": {
        "id": "SQdu7PDuacsy"
      },
      "execution_count": null,
      "outputs": []
    },
    {
      "cell_type": "code",
      "source": [
        "c = np.identity(3)\n",
        "np.linalg.det(c)"
      ],
      "metadata": {
        "id": "_xdXr122acoz"
      },
      "execution_count": null,
      "outputs": []
    },
    {
      "cell_type": "code",
      "source": [
        "## Reference docs (https://docs.scipy.org/doc/numpy/reference/routines.linalg.html)\n",
        "\n",
        "# Determinant\n",
        "# Trace\n",
        "# Singular Vector Decomposition\n",
        "# Eigenvalues\n",
        "# Matrix Norm\n",
        "# Inverse\n",
        "# Etc..."
      ],
      "metadata": {
        "id": "gTDcfcCkZkoc"
      },
      "execution_count": null,
      "outputs": []
    },
    {
      "cell_type": "markdown",
      "source": [],
      "metadata": {
        "id": "xbroEuvNbiqZ"
      }
    },
    {
      "cell_type": "markdown",
      "source": [
        "### Statistics"
      ],
      "metadata": {
        "id": "CSacFlx1bHjO"
      }
    },
    {
      "cell_type": "code",
      "source": [
        "stats = np.array([[1,2,3],[4,5,6]])\n",
        "stats"
      ],
      "metadata": {
        "id": "Bu-9_tVCbiV_"
      },
      "execution_count": null,
      "outputs": []
    },
    {
      "cell_type": "code",
      "source": [
        "np.min(stats)"
      ],
      "metadata": {
        "id": "_G_Zd4xubppm"
      },
      "execution_count": null,
      "outputs": []
    },
    {
      "cell_type": "code",
      "source": [
        "np.max(stats)"
      ],
      "metadata": {
        "id": "DdwgrLVebplW"
      },
      "execution_count": null,
      "outputs": []
    },
    {
      "cell_type": "code",
      "source": [
        "np.max(stats, axis=1)"
      ],
      "metadata": {
        "id": "xStNMytpbpcO"
      },
      "execution_count": null,
      "outputs": []
    },
    {
      "cell_type": "code",
      "source": [
        "np.sum(stats)"
      ],
      "metadata": {
        "id": "VKOZ2FFOb2-4"
      },
      "execution_count": null,
      "outputs": []
    },
    {
      "cell_type": "markdown",
      "source": [
        "### Reorganize arrays"
      ],
      "metadata": {
        "id": "EqpL9f8Nb8pu"
      }
    },
    {
      "cell_type": "code",
      "source": [
        "before = np.array([[1,2,3,4],[5,6,7,8]])\n",
        "print(before)\n",
        "\n",
        "after = before.reshape((8,1))\n",
        "print(after)"
      ],
      "metadata": {
        "id": "XcysbJxhb_eR"
      },
      "execution_count": null,
      "outputs": []
    },
    {
      "cell_type": "code",
      "source": [
        "after = before.reshape((2,2,2))\n",
        "print(after)"
      ],
      "metadata": {
        "id": "w5NRLcQ1cDz9"
      },
      "execution_count": null,
      "outputs": []
    },
    {
      "cell_type": "code",
      "source": [
        "after = before.reshape((2,3)) # miss match on the before size\n",
        "print(after)"
      ],
      "metadata": {
        "id": "FmpMR1jacK_o"
      },
      "execution_count": null,
      "outputs": []
    },
    {
      "cell_type": "code",
      "source": [
        "# Vertical Stacking vectors\n",
        "v1 = np.array([1,2,3,4])\n",
        "v2 = np.array([5,6,7,8])\n",
        "\n",
        "np.vstack([v1,v2,v1,v2])"
      ],
      "metadata": {
        "id": "-SGOZlbfcSm2"
      },
      "execution_count": null,
      "outputs": []
    },
    {
      "cell_type": "code",
      "source": [
        "#Horizontal Stack\n",
        "h1 = np.ones((2,4))\n",
        "h2 = np.zeros((2,2))\n",
        "\n",
        "np.hstack((h1,h2))"
      ],
      "metadata": {
        "id": "6d1hxaRXd__3"
      },
      "execution_count": null,
      "outputs": []
    }
  ],
  "metadata": {
    "colab": {
      "name": "NumPy UltraQuick Tutorial",
      "private_outputs": true,
      "provenance": [],
      "include_colab_link": true
    },
    "kernelspec": {
      "display_name": "Python 3",
      "name": "python3"
    }
  },
  "nbformat": 4,
  "nbformat_minor": 0
}